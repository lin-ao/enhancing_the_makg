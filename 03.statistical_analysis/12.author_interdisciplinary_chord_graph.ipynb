{
 "cells": [
  {
   "cell_type": "code",
   "execution_count": 1,
   "metadata": {},
   "outputs": [],
   "source": [
    "from chord import Chord"
   ]
  },
  {
   "cell_type": "code",
   "execution_count": 3,
   "metadata": {},
   "outputs": [],
   "source": [
    "f = open('08.author_fos_matrix.txt', 'r+')\n",
    "matrix = f.readline()\n",
    "f.close()"
   ]
  },
  {
   "cell_type": "code",
   "execution_count": 5,
   "metadata": {},
   "outputs": [],
   "source": [
    "names = [\"Computer Science\", \"Biology\", \"Political Science\", \"Materials Science\", \"Geography\", \"Chemistry\", \"Economics\", \"Mathematics\", \"Geology\", \"Engineering\", \"Physics\", \"Sociology\", \"Business\", \"Medicine\", \"Psychology\", \"Art\", \"History\", \"Philosophy\", \"Environmental science\"]\n",
    "Chord(matrix, names, wrap_labels = False, width=3600).to_html()"
   ]
  }
 ],
 "metadata": {
  "kernelspec": {
   "display_name": "Python 3",
   "language": "python",
   "name": "python3"
  },
  "language_info": {
   "codemirror_mode": {
    "name": "ipython",
    "version": 3
   },
   "file_extension": ".py",
   "mimetype": "text/x-python",
   "name": "python",
   "nbconvert_exporter": "python",
   "pygments_lexer": "ipython3",
   "version": "3.7.7"
  }
 },
 "nbformat": 4,
 "nbformat_minor": 4
}
